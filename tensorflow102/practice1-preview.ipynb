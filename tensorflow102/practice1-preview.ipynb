{
  "nbformat": 4,
  "nbformat_minor": 0,
  "metadata": {
    "colab": {
      "name": "1. imageset preview.ipynb",
      "provenance": [],
      "collapsed_sections": []
    },
    "kernelspec": {
      "name": "python3",
      "display_name": "Python 3"
    }
  },
  "cells": [
    {
      "cell_type": "markdown",
      "metadata": {
        "id": "qA-GWlC08qt9"
      },
      "source": [
        "# 샘플 이미지셋 실습\n",
        " - MNIST: 손글씨 이미지셋 (60000, 28, 28)\n",
        " - CIFAR10: 10가지 분류 사물 이미지셋 (50000, 32, 32)\n"
      ]
    },
    {
      "cell_type": "code",
      "metadata": {
        "id": "EX5mTykwKFss"
      },
      "source": [
        "import tensorflow as tf"
      ],
      "execution_count": null,
      "outputs": []
    },
    {
      "cell_type": "code",
      "metadata": {
        "id": "xCp36n1BKILo"
      },
      "source": [
        "(mnist_x, mnist_y), _ = tf.keras.datasets.mnist.load_data()\n",
        "print(mnist_x.shape, mnist_y.shape)\n",
        "\n",
        "(cifar_x, cifar_y), _ = tf.keras.datasets.cifar10.load_data()\n",
        "print(cifar_x.shape, cifar_y.shape)"
      ],
      "execution_count": null,
      "outputs": []
    },
    {
      "cell_type": "markdown",
      "metadata": {
        "id": "PTmUpcYZHF_-"
      },
      "source": [
        "## 1. 화면 출력"
      ]
    },
    {
      "cell_type": "code",
      "metadata": {
        "id": "tZQ24col_2DJ"
      },
      "source": [
        "print(mnist_y[0:10])\n",
        "\n",
        "import matplotlib.pyplot as plt\n",
        "plt.imshow(mnist_x[4], cmap='gray')"
      ],
      "execution_count": null,
      "outputs": []
    },
    {
      "cell_type": "code",
      "metadata": {
        "id": "5f6qLFkJARxc"
      },
      "source": [
        "print(cifar_y[0:10])\n",
        "\n",
        "import matplotlib.pyplot as plt\n",
        "plt.imshow(cifar_x[0])"
      ],
      "execution_count": null,
      "outputs": []
    },
    {
      "cell_type": "markdown",
      "metadata": {
        "id": "M9bRNqL7GDw2"
      },
      "source": [
        "## 2. 차원 확인"
      ]
    },
    {
      "cell_type": "code",
      "metadata": {
        "id": "NMYYX0nNArrM"
      },
      "source": [
        "import numpy as np\n",
        "\n",
        "d1 = np.array([1, 2, 3, 4, 5])\n",
        "print(d1.shape)\n",
        "\n",
        "d2 = np.array([d1, d1, d1, d1])\n",
        "print(d2.shape)\n",
        "\n",
        "d3 = np.array([d2, d2, d2])\n",
        "print(d3.shape)\n",
        "\n",
        "d4 = np.array([d3, d3])\n",
        "print(d4.shape)"
      ],
      "execution_count": null,
      "outputs": []
    },
    {
      "cell_type": "code",
      "metadata": {
        "id": "pToRg91wA7Tx"
      },
      "source": [
        "print(mnist_y.shape)\n",
        "print(cifar_y.shape)"
      ],
      "execution_count": null,
      "outputs": []
    },
    {
      "cell_type": "code",
      "metadata": {
        "id": "aIPxtzlfBQau"
      },
      "source": [
        "x1 = np.array([1, 2, 3, 4, 5])\n",
        "print(x1.shape)\n",
        "print(mnist_y[0:5])\n",
        "print(mnist_y[0:5].shape)\n",
        "\n",
        "x2 = np.array([[1, 2, 3, 4, 5]])\n",
        "print(x2.shape)\n",
        "\n",
        "x3 = np.array([[1], [2], [3], [4], [5]])\n",
        "print(x3.shape)\n",
        "print(cifar_y[0:5])\n",
        "print(cifar_y[0:5].shape)"
      ],
      "execution_count": null,
      "outputs": []
    },
    {
      "cell_type": "code",
      "metadata": {
        "id": "eLvH8-oxBT3H"
      },
      "source": [
        ""
      ],
      "execution_count": null,
      "outputs": []
    }
  ]
}