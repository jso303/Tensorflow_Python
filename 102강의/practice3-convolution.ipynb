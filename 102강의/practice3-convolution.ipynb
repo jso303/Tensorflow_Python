{
  "nbformat": 4,
  "nbformat_minor": 0,
  "metadata": {
    "colab": {
      "name": "3. convolution.ipynb",
      "provenance": [],
      "collapsed_sections": []
    },
    "kernelspec": {
      "name": "python3",
      "display_name": "Python 3"
    },
    "accelerator": "GPU"
  },
  "cells": [
    {
      "cell_type": "markdown",
      "metadata": {
        "id": "yyMI233NB6CT"
      },
      "source": [
        "# Convolution Layer"
      ]
    },
    {
      "cell_type": "code",
      "metadata": {
        "id": "TtNjqsgiBuLL"
      },
      "source": [
        "import tensorflow as tf\n",
        "import pandas as pd"
      ],
      "execution_count": null,
      "outputs": []
    },
    {
      "cell_type": "code",
      "metadata": {
        "id": "GvpPDz8TFlJ3"
      },
      "source": [
        "# 데이터를 준비하고\n",
        "(독립, 종속), _ = tf.keras.datasets.mnist.load_data()\n",
        "print(독립.shape, 종속.shape)\n",
        "\n",
        "독립 = 독립.reshape(60000, 28, 28, 1)\n",
        "종속 = pd.get_dummies(종속)\n",
        "print(독립.shape, 종속.shape)"
      ],
      "execution_count": null,
      "outputs": []
    },
    {
      "cell_type": "code",
      "metadata": {
        "id": "PLTGDJpVFngm"
      },
      "source": [
        "# 모델을 만들고\n",
        "X = tf.keras.layers.Input(shape=[28, 28, 1])\n",
        "H = tf.keras.layers.Conv2D(3, kernel_size=5, activation='swish')(X)\n",
        "H = tf.keras.layers.Conv2D(6, kernel_size=5, activation='swish')(H)\n",
        "H = tf.keras.layers.Flatten()(H)\n",
        "H = tf.keras.layers.Dense(84, activation='swish')(H)\n",
        "Y = tf.keras.layers.Dense(10, activation='softmax')(H)\n",
        "model = tf.keras.models.Model(X, Y)\n",
        "model.compile(loss='categorical_crossentropy', metrics='accuracy')"
      ],
      "execution_count": null,
      "outputs": []
    },
    {
      "cell_type": "code",
      "metadata": {
        "id": "n9t63oANFogL"
      },
      "source": [
        "# 모델을 학습하고\n",
        "model.fit(독립, 종속, epochs=10)"
      ],
      "execution_count": null,
      "outputs": []
    },
    {
      "cell_type": "code",
      "metadata": {
        "id": "XXXa9HhNFrW3"
      },
      "source": [
        "# 모델을 이용합니다. \n",
        "pred = model.predict(독립[0:5])\n",
        "pd.DataFrame(pred).round(2)"
      ],
      "execution_count": null,
      "outputs": []
    },
    {
      "cell_type": "code",
      "metadata": {
        "id": "p9SpHMs4IFE5"
      },
      "source": [
        "# 정답 확인\n",
        "종속[0:5]"
      ],
      "execution_count": null,
      "outputs": []
    },
    {
      "cell_type": "code",
      "metadata": {
        "id": "KuPp_phtIJuT"
      },
      "source": [
        "model.summary()"
      ],
      "execution_count": null,
      "outputs": []
    },
    {
      "cell_type": "code",
      "metadata": {
        "id": "HxM8N_zuILrw"
      },
      "source": [
        ""
      ],
      "execution_count": null,
      "outputs": []
    }
  ]
}